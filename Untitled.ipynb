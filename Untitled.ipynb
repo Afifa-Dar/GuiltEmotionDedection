{
 "cells": [
  {
   "cell_type": "code",
   "execution_count": 1,
   "id": "ea5ac560",
   "metadata": {},
   "outputs": [],
   "source": [
    "import pandas as pd"
   ]
  },
  {
   "cell_type": "code",
   "execution_count": 2,
   "id": "70ac1dbe",
   "metadata": {},
   "outputs": [],
   "source": [
    "# read the text data into a DataFrame\n",
    "df = pd.read_csv(\"Open_EC.txt\", delimiter=\"\\t\")\n",
    "\n",
    "# export the DataFrame to a CSV file\n",
    "df.to_csv(\"open_EV.csv\", index=False)\n"
   ]
  },
  {
   "cell_type": "code",
   "execution_count": 4,
   "id": "687ac540",
   "metadata": {},
   "outputs": [],
   "source": [
    "data = pd.read_csv('open_EV.csv')"
   ]
  },
  {
   "cell_type": "code",
   "execution_count": 20,
   "id": "7eb53a62",
   "metadata": {},
   "outputs": [
    {
     "data": {
      "text/html": [
       "<div>\n",
       "<style scoped>\n",
       "    .dataframe tbody tr th:only-of-type {\n",
       "        vertical-align: middle;\n",
       "    }\n",
       "\n",
       "    .dataframe tbody tr th {\n",
       "        vertical-align: top;\n",
       "    }\n",
       "\n",
       "    .dataframe thead th {\n",
       "        text-align: right;\n",
       "    }\n",
       "</style>\n",
       "<table border=\"1\" class=\"dataframe\">\n",
       "  <thead>\n",
       "    <tr style=\"text-align: right;\">\n",
       "      <th></th>\n",
       "      <th>%OpenBCI Raw EEG Data</th>\n",
       "    </tr>\n",
       "  </thead>\n",
       "  <tbody>\n",
       "    <tr>\n",
       "      <th>179</th>\n",
       "      <td>94.0, -187500.02235174447, -187500.02235174447...</td>\n",
       "    </tr>\n",
       "    <tr>\n",
       "      <th>180</th>\n",
       "      <td>96.0, -187500.02235174447, -187500.02235174447...</td>\n",
       "    </tr>\n",
       "    <tr>\n",
       "      <th>181</th>\n",
       "      <td>98.0, -187500.02235174447, -187500.02235174447...</td>\n",
       "    </tr>\n",
       "    <tr>\n",
       "      <th>182</th>\n",
       "      <td>100.0, -187500.02235174447, -187500.0223517444...</td>\n",
       "    </tr>\n",
       "    <tr>\n",
       "      <th>183</th>\n",
       "      <td>102.0, -187500.02235174447, -187500.0223517444...</td>\n",
       "    </tr>\n",
       "  </tbody>\n",
       "</table>\n",
       "</div>"
      ],
      "text/plain": [
       "                                 %OpenBCI Raw EEG Data\n",
       "179  94.0, -187500.02235174447, -187500.02235174447...\n",
       "180  96.0, -187500.02235174447, -187500.02235174447...\n",
       "181  98.0, -187500.02235174447, -187500.02235174447...\n",
       "182  100.0, -187500.02235174447, -187500.0223517444...\n",
       "183  102.0, -187500.02235174447, -187500.0223517444..."
      ]
     },
     "execution_count": 20,
     "metadata": {},
     "output_type": "execute_result"
    }
   ],
   "source": [
    "data.tail()"
   ]
  },
  {
   "cell_type": "code",
   "execution_count": 14,
   "id": "aa430e8e",
   "metadata": {},
   "outputs": [
    {
     "data": {
      "text/plain": [
       "(1,)"
      ]
     },
     "execution_count": 14,
     "metadata": {},
     "output_type": "execute_result"
    }
   ],
   "source": [
    "data.iloc[179].shape"
   ]
  },
  {
   "cell_type": "code",
   "execution_count": 21,
   "id": "3daa4fc5",
   "metadata": {},
   "outputs": [
    {
     "data": {
      "text/plain": [
       "%OpenBCI Raw EEG Data    102.0, -187500.02235174447, -187500.0223517444...\n",
       "Name: 183, dtype: object"
      ]
     },
     "execution_count": 21,
     "metadata": {},
     "output_type": "execute_result"
    }
   ],
   "source": [
    "data.iloc[183]"
   ]
  },
  {
   "cell_type": "code",
   "execution_count": null,
   "id": "76a028e5",
   "metadata": {},
   "outputs": [],
   "source": []
  }
 ],
 "metadata": {
  "kernelspec": {
   "display_name": "Python 3",
   "language": "python",
   "name": "python3"
  },
  "language_info": {
   "codemirror_mode": {
    "name": "ipython",
    "version": 3
   },
   "file_extension": ".py",
   "mimetype": "text/x-python",
   "name": "python",
   "nbconvert_exporter": "python",
   "pygments_lexer": "ipython3",
   "version": "3.8.8"
  }
 },
 "nbformat": 4,
 "nbformat_minor": 5
}
