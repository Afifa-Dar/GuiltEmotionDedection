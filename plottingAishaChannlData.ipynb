{
 "cells": [
  {
   "cell_type": "code",
   "execution_count": 3,
   "id": "29696e2d",
   "metadata": {},
   "outputs": [],
   "source": [
    "import pandas as pd\n",
    "import matplotlib.pyplot as plt"
   ]
  },
  {
   "cell_type": "code",
   "execution_count": 4,
   "id": "558831f5",
   "metadata": {},
   "outputs": [],
   "source": [
    "data = pd.read_csv('filename.csv')"
   ]
  },
  {
   "cell_type": "code",
   "execution_count": 5,
   "id": "82c78f8a",
   "metadata": {},
   "outputs": [
    {
     "data": {
      "text/html": [
       "<div>\n",
       "<style scoped>\n",
       "    .dataframe tbody tr th:only-of-type {\n",
       "        vertical-align: middle;\n",
       "    }\n",
       "\n",
       "    .dataframe tbody tr th {\n",
       "        vertical-align: top;\n",
       "    }\n",
       "\n",
       "    .dataframe thead th {\n",
       "        text-align: right;\n",
       "    }\n",
       "</style>\n",
       "<table border=\"1\" class=\"dataframe\">\n",
       "  <thead>\n",
       "    <tr style=\"text-align: right;\">\n",
       "      <th></th>\n",
       "      <th>0</th>\n",
       "      <th>1</th>\n",
       "      <th>2</th>\n",
       "      <th>3</th>\n",
       "      <th>4</th>\n",
       "      <th>5</th>\n",
       "      <th>6</th>\n",
       "      <th>7</th>\n",
       "      <th>8</th>\n",
       "      <th>9</th>\n",
       "      <th>10</th>\n",
       "      <th>11</th>\n",
       "      <th>12</th>\n",
       "      <th>13</th>\n",
       "      <th>14</th>\n",
       "      <th>15</th>\n",
       "    </tr>\n",
       "  </thead>\n",
       "  <tbody>\n",
       "    <tr>\n",
       "      <th>0</th>\n",
       "      <td>2473389.75</td>\n",
       "      <td>2471282.50</td>\n",
       "      <td>2459806.50</td>\n",
       "      <td>2428836.00</td>\n",
       "      <td>-4322.805176</td>\n",
       "      <td>867386.2500</td>\n",
       "      <td>2479149.50</td>\n",
       "      <td>2514574.00</td>\n",
       "      <td>2445350.50</td>\n",
       "      <td>2441022.50</td>\n",
       "      <td>2451807.50</td>\n",
       "      <td>2523823.25</td>\n",
       "      <td>2403010.00</td>\n",
       "      <td>2452389.50</td>\n",
       "      <td>2449665.50</td>\n",
       "      <td>2417852.50</td>\n",
       "    </tr>\n",
       "    <tr>\n",
       "      <th>1</th>\n",
       "      <td>2471091.00</td>\n",
       "      <td>2468868.50</td>\n",
       "      <td>2457588.25</td>\n",
       "      <td>2434546.00</td>\n",
       "      <td>-4328.728027</td>\n",
       "      <td>865257.1250</td>\n",
       "      <td>2476084.75</td>\n",
       "      <td>2518911.50</td>\n",
       "      <td>2444381.50</td>\n",
       "      <td>2445545.75</td>\n",
       "      <td>2455649.00</td>\n",
       "      <td>2526431.50</td>\n",
       "      <td>2402757.00</td>\n",
       "      <td>2456267.50</td>\n",
       "      <td>2453488.25</td>\n",
       "      <td>2413378.00</td>\n",
       "    </tr>\n",
       "    <tr>\n",
       "      <th>2</th>\n",
       "      <td>2466698.75</td>\n",
       "      <td>2464564.75</td>\n",
       "      <td>2453023.25</td>\n",
       "      <td>2440505.75</td>\n",
       "      <td>-4321.888672</td>\n",
       "      <td>860857.2500</td>\n",
       "      <td>2474173.50</td>\n",
       "      <td>2524651.50</td>\n",
       "      <td>2447910.75</td>\n",
       "      <td>2438478.50</td>\n",
       "      <td>2448304.00</td>\n",
       "      <td>2530295.50</td>\n",
       "      <td>2404307.25</td>\n",
       "      <td>2448679.50</td>\n",
       "      <td>2446112.75</td>\n",
       "      <td>2420802.25</td>\n",
       "    </tr>\n",
       "    <tr>\n",
       "      <th>3</th>\n",
       "      <td>2470226.25</td>\n",
       "      <td>2468112.75</td>\n",
       "      <td>2456752.50</td>\n",
       "      <td>2445455.00</td>\n",
       "      <td>-4334.472656</td>\n",
       "      <td>864729.8125</td>\n",
       "      <td>2469229.50</td>\n",
       "      <td>2527420.00</td>\n",
       "      <td>2447445.25</td>\n",
       "      <td>2440732.25</td>\n",
       "      <td>2450397.25</td>\n",
       "      <td>2533658.50</td>\n",
       "      <td>2403559.00</td>\n",
       "      <td>2451259.25</td>\n",
       "      <td>2448459.00</td>\n",
       "      <td>2420172.50</td>\n",
       "    </tr>\n",
       "    <tr>\n",
       "      <th>4</th>\n",
       "      <td>2463740.25</td>\n",
       "      <td>2461490.25</td>\n",
       "      <td>2450020.25</td>\n",
       "      <td>2449213.25</td>\n",
       "      <td>-4339.859375</td>\n",
       "      <td>857971.1875</td>\n",
       "      <td>2467830.50</td>\n",
       "      <td>2532977.00</td>\n",
       "      <td>2447704.25</td>\n",
       "      <td>2438554.25</td>\n",
       "      <td>2448889.25</td>\n",
       "      <td>2536040.75</td>\n",
       "      <td>2402288.50</td>\n",
       "      <td>2449868.25</td>\n",
       "      <td>2446650.25</td>\n",
       "      <td>2422222.25</td>\n",
       "    </tr>\n",
       "    <tr>\n",
       "      <th>...</th>\n",
       "      <td>...</td>\n",
       "      <td>...</td>\n",
       "      <td>...</td>\n",
       "      <td>...</td>\n",
       "      <td>...</td>\n",
       "      <td>...</td>\n",
       "      <td>...</td>\n",
       "      <td>...</td>\n",
       "      <td>...</td>\n",
       "      <td>...</td>\n",
       "      <td>...</td>\n",
       "      <td>...</td>\n",
       "      <td>...</td>\n",
       "      <td>...</td>\n",
       "      <td>...</td>\n",
       "      <td>...</td>\n",
       "    </tr>\n",
       "    <tr>\n",
       "      <th>251564</th>\n",
       "      <td>2938877.00</td>\n",
       "      <td>3055805.25</td>\n",
       "      <td>3226212.25</td>\n",
       "      <td>2963259.75</td>\n",
       "      <td>-187500.015625</td>\n",
       "      <td>826425.6875</td>\n",
       "      <td>2602610.50</td>\n",
       "      <td>3289513.00</td>\n",
       "      <td>3014796.75</td>\n",
       "      <td>3187643.25</td>\n",
       "      <td>2801963.50</td>\n",
       "      <td>2701885.50</td>\n",
       "      <td>3127401.25</td>\n",
       "      <td>3050952.00</td>\n",
       "      <td>3240307.25</td>\n",
       "      <td>2932900.50</td>\n",
       "    </tr>\n",
       "    <tr>\n",
       "      <th>251565</th>\n",
       "      <td>2981965.50</td>\n",
       "      <td>3068169.50</td>\n",
       "      <td>3239996.25</td>\n",
       "      <td>2965359.50</td>\n",
       "      <td>-187500.015625</td>\n",
       "      <td>829356.3125</td>\n",
       "      <td>2611689.75</td>\n",
       "      <td>3294493.25</td>\n",
       "      <td>3014391.75</td>\n",
       "      <td>3191749.25</td>\n",
       "      <td>2812460.75</td>\n",
       "      <td>2709892.00</td>\n",
       "      <td>3127825.25</td>\n",
       "      <td>3050110.25</td>\n",
       "      <td>3237611.75</td>\n",
       "      <td>2940200.25</td>\n",
       "    </tr>\n",
       "    <tr>\n",
       "      <th>251566</th>\n",
       "      <td>2960641.50</td>\n",
       "      <td>3059995.25</td>\n",
       "      <td>3236109.75</td>\n",
       "      <td>2967142.50</td>\n",
       "      <td>-187500.015625</td>\n",
       "      <td>826947.6875</td>\n",
       "      <td>2607506.00</td>\n",
       "      <td>3296605.25</td>\n",
       "      <td>3009850.25</td>\n",
       "      <td>3174781.00</td>\n",
       "      <td>2791198.25</td>\n",
       "      <td>2688433.75</td>\n",
       "      <td>3125415.00</td>\n",
       "      <td>3043953.50</td>\n",
       "      <td>3244338.75</td>\n",
       "      <td>2915593.25</td>\n",
       "    </tr>\n",
       "    <tr>\n",
       "      <th>251567</th>\n",
       "      <td>2948824.25</td>\n",
       "      <td>3060059.25</td>\n",
       "      <td>3226889.25</td>\n",
       "      <td>2961687.50</td>\n",
       "      <td>-187500.015625</td>\n",
       "      <td>827227.6875</td>\n",
       "      <td>2605823.25</td>\n",
       "      <td>3287390.25</td>\n",
       "      <td>3016184.00</td>\n",
       "      <td>3195828.75</td>\n",
       "      <td>2813384.50</td>\n",
       "      <td>2713496.75</td>\n",
       "      <td>3127818.25</td>\n",
       "      <td>3052232.00</td>\n",
       "      <td>3236640.25</td>\n",
       "      <td>2945318.00</td>\n",
       "    </tr>\n",
       "    <tr>\n",
       "      <th>251568</th>\n",
       "      <td>2990673.50</td>\n",
       "      <td>3068074.00</td>\n",
       "      <td>3245358.50</td>\n",
       "      <td>2968246.00</td>\n",
       "      <td>-187500.015625</td>\n",
       "      <td>828429.8750</td>\n",
       "      <td>2613894.50</td>\n",
       "      <td>3299584.25</td>\n",
       "      <td>3009504.25</td>\n",
       "      <td>3178738.75</td>\n",
       "      <td>2798688.00</td>\n",
       "      <td>2694500.75</td>\n",
       "      <td>3125478.75</td>\n",
       "      <td>3043286.75</td>\n",
       "      <td>3242373.75</td>\n",
       "      <td>2921457.50</td>\n",
       "    </tr>\n",
       "  </tbody>\n",
       "</table>\n",
       "<p>251569 rows × 16 columns</p>\n",
       "</div>"
      ],
      "text/plain": [
       "                 0           1           2           3              4  \\\n",
       "0       2473389.75  2471282.50  2459806.50  2428836.00   -4322.805176   \n",
       "1       2471091.00  2468868.50  2457588.25  2434546.00   -4328.728027   \n",
       "2       2466698.75  2464564.75  2453023.25  2440505.75   -4321.888672   \n",
       "3       2470226.25  2468112.75  2456752.50  2445455.00   -4334.472656   \n",
       "4       2463740.25  2461490.25  2450020.25  2449213.25   -4339.859375   \n",
       "...            ...         ...         ...         ...            ...   \n",
       "251564  2938877.00  3055805.25  3226212.25  2963259.75 -187500.015625   \n",
       "251565  2981965.50  3068169.50  3239996.25  2965359.50 -187500.015625   \n",
       "251566  2960641.50  3059995.25  3236109.75  2967142.50 -187500.015625   \n",
       "251567  2948824.25  3060059.25  3226889.25  2961687.50 -187500.015625   \n",
       "251568  2990673.50  3068074.00  3245358.50  2968246.00 -187500.015625   \n",
       "\n",
       "                  5           6           7           8           9  \\\n",
       "0       867386.2500  2479149.50  2514574.00  2445350.50  2441022.50   \n",
       "1       865257.1250  2476084.75  2518911.50  2444381.50  2445545.75   \n",
       "2       860857.2500  2474173.50  2524651.50  2447910.75  2438478.50   \n",
       "3       864729.8125  2469229.50  2527420.00  2447445.25  2440732.25   \n",
       "4       857971.1875  2467830.50  2532977.00  2447704.25  2438554.25   \n",
       "...             ...         ...         ...         ...         ...   \n",
       "251564  826425.6875  2602610.50  3289513.00  3014796.75  3187643.25   \n",
       "251565  829356.3125  2611689.75  3294493.25  3014391.75  3191749.25   \n",
       "251566  826947.6875  2607506.00  3296605.25  3009850.25  3174781.00   \n",
       "251567  827227.6875  2605823.25  3287390.25  3016184.00  3195828.75   \n",
       "251568  828429.8750  2613894.50  3299584.25  3009504.25  3178738.75   \n",
       "\n",
       "                10          11          12          13          14          15  \n",
       "0       2451807.50  2523823.25  2403010.00  2452389.50  2449665.50  2417852.50  \n",
       "1       2455649.00  2526431.50  2402757.00  2456267.50  2453488.25  2413378.00  \n",
       "2       2448304.00  2530295.50  2404307.25  2448679.50  2446112.75  2420802.25  \n",
       "3       2450397.25  2533658.50  2403559.00  2451259.25  2448459.00  2420172.50  \n",
       "4       2448889.25  2536040.75  2402288.50  2449868.25  2446650.25  2422222.25  \n",
       "...            ...         ...         ...         ...         ...         ...  \n",
       "251564  2801963.50  2701885.50  3127401.25  3050952.00  3240307.25  2932900.50  \n",
       "251565  2812460.75  2709892.00  3127825.25  3050110.25  3237611.75  2940200.25  \n",
       "251566  2791198.25  2688433.75  3125415.00  3043953.50  3244338.75  2915593.25  \n",
       "251567  2813384.50  2713496.75  3127818.25  3052232.00  3236640.25  2945318.00  \n",
       "251568  2798688.00  2694500.75  3125478.75  3043286.75  3242373.75  2921457.50  \n",
       "\n",
       "[251569 rows x 16 columns]"
      ]
     },
     "execution_count": 5,
     "metadata": {},
     "output_type": "execute_result"
    }
   ],
   "source": [
    "data"
   ]
  },
  {
   "cell_type": "code",
   "execution_count": 6,
   "id": "f847cf79",
   "metadata": {},
   "outputs": [
    {
     "name": "stdout",
     "output_type": "stream",
     "text": [
      "251569\n"
     ]
    }
   ],
   "source": [
    "n = len(data)\n",
    "ts = 125\n",
    "print(n)"
   ]
  },
  {
   "cell_type": "code",
   "execution_count": 7,
   "id": "5a5a7eaf",
   "metadata": {},
   "outputs": [
    {
     "data": {
      "text/plain": [
       "251569"
      ]
     },
     "execution_count": 7,
     "metadata": {},
     "output_type": "execute_result"
    }
   ],
   "source": [
    "# t = range(1,4)\n",
    "# print(t) \n",
    "t = [i/ts for i in range(0, n)]\n",
    "len(t)"
   ]
  },
  {
   "cell_type": "code",
   "execution_count": 8,
   "id": "eb8debbc",
   "metadata": {},
   "outputs": [
    {
     "data": {
      "text/plain": [
       "[<matplotlib.lines.Line2D at 0x1334f08f430>,\n",
       " <matplotlib.lines.Line2D at 0x1334f08f4f0>,\n",
       " <matplotlib.lines.Line2D at 0x1334f08f5e0>,\n",
       " <matplotlib.lines.Line2D at 0x1334f08f670>,\n",
       " <matplotlib.lines.Line2D at 0x1334f08f730>,\n",
       " <matplotlib.lines.Line2D at 0x1334f08f7f0>,\n",
       " <matplotlib.lines.Line2D at 0x1334f08f8b0>,\n",
       " <matplotlib.lines.Line2D at 0x1334f08f970>,\n",
       " <matplotlib.lines.Line2D at 0x1334f08fa30>,\n",
       " <matplotlib.lines.Line2D at 0x1334f08faf0>,\n",
       " <matplotlib.lines.Line2D at 0x1334f05e670>,\n",
       " <matplotlib.lines.Line2D at 0x1334f08fc40>,\n",
       " <matplotlib.lines.Line2D at 0x1334f08fd00>,\n",
       " <matplotlib.lines.Line2D at 0x1334f08fdc0>,\n",
       " <matplotlib.lines.Line2D at 0x1334f08fe80>,\n",
       " <matplotlib.lines.Line2D at 0x1334f08ff40>]"
      ]
     },
     "execution_count": 8,
     "metadata": {},
     "output_type": "execute_result"
    },
    {
     "data": {
      "image/png": "[encoded data removed]",
      "text/plain": [
       "<Figure size 432x288 with 1 Axes>"
      ]
     },
     "metadata": {
      "needs_background": "light"
     },
     "output_type": "display_data"
    }
   ],
   "source": [
    "\n",
    "plt.plot(t , data)"
   ]
  },
  {
   "cell_type": "code",
   "execution_count": 9,
   "id": "43ccbe78",
   "metadata": {},
   "outputs": [
    {
     "data": {
      "text/plain": [
       "[<matplotlib.lines.Line2D at 0x13350c7ee50>]"
      ]
     },
     "execution_count": 9,
     "metadata": {},
     "output_type": "execute_result"
    },
    {
     "data": {
      "image/png": "[encoded data removed]",
      "text/plain": [
       "<Figure size 432x288 with 1 Axes>"
      ]
     },
     "metadata": {
      "needs_background": "light"
     },
     "output_type": "display_data"
    }
   ],
   "source": [
    "plt.plot(t , data['5'])"
   ]
  },
  {
   "cell_type": "code",
   "execution_count": 10,
   "id": "e4a7502a",
   "metadata": {},
   "outputs": [
    {
     "data": {
      "text/plain": [
       "[0.0, 0.008, 0.016, 0.024, 0.032, 0.04, 0.048, 0.056, 0.064, 0.072]"
      ]
     },
     "execution_count": 10,
     "metadata": {},
     "output_type": "execute_result"
    }
   ],
   "source": [
    "import matplotlib.pyplot as plt\n",
    "x = data.iloc[:10,1:5]\n",
    "# print(x)\n",
    "y = t[:10]\n",
    "y"
   ]
  },
  {
   "cell_type": "code",
   "execution_count": 11,
   "id": "c5bcd294",
   "metadata": {},
   "outputs": [
    {
     "data": {
      "text/plain": [
       "[<matplotlib.lines.Line2D at 0x13350ceb550>,\n",
       " <matplotlib.lines.Line2D at 0x13350ceb640>,\n",
       " <matplotlib.lines.Line2D at 0x13350ceb700>,\n",
       " <matplotlib.lines.Line2D at 0x13350ceb7c0>]"
      ]
     },
     "execution_count": 11,
     "metadata": {},
     "output_type": "execute_result"
    },
    {
     "data": {
      "image/png": "[encoded data removed]",
      "text/plain": [
       "<Figure size 1440x720 with 1 Axes>"
      ]
     },
     "metadata": {
      "needs_background": "light"
     },
     "output_type": "display_data"
    }
   ],
   "source": [
    "plt.figure(figsize=(20,10))\n",
    "plt.plot(y,x)"
   ]
  },
  {
   "cell_type": "code",
   "execution_count": null,
   "id": "a5a50bd4",
   "metadata": {},
   "outputs": [],
   "source": []
  }
 ],
 "metadata": {
  "kernelspec": {
   "display_name": "Python 3",
   "language": "python",
   "name": "python3"
  },
  "language_info": {
   "codemirror_mode": {
    "name": "ipython",
    "version": 3
   },
   "file_extension": ".py",
   "mimetype": "text/x-python",
   "name": "python",
   "nbconvert_exporter": "python",
   "pygments_lexer": "ipython3",
   "version": "3.8.8"
  }
 },
 "nbformat": 4,
 "nbformat_minor": 5
}
