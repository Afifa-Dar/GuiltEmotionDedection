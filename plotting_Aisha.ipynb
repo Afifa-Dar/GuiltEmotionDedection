{
 "cells": [
  {
   "cell_type": "code",
   "execution_count": 1,
   "id": "5e691828",
   "metadata": {},
   "outputs": [],
   "source": [
    "import pandas as pd  \n",
    "import numpy as np\n",
    "import matplotlib.pyplot as plt\n",
    "from scipy.io import loadmat\n"
   ]
  },
  {
   "cell_type": "code",
   "execution_count": null,
   "id": "7776c119",
   "metadata": {},
   "outputs": [],
   "source": []
  },
  {
   "cell_type": "code",
   "execution_count": 2,
   "id": "dd631fda",
   "metadata": {},
   "outputs": [],
   "source": [
    "mat = loadmat('01openbci.mat')"
   ]
  },
  {
   "cell_type": "code",
   "execution_count": 3,
   "id": "36ef13a2",
   "metadata": {},
   "outputs": [
    {
     "data": {
      "text/plain": [
       "{'__header__': b'MATLAB 5.0 MAT-file, Platform: PCWIN64, Created on: Tue Dec 13 11:22:43 2022',\n",
       " '__version__': '1.0',\n",
       " '__globals__': [],\n",
       " 'chdata': array([[2473389.75, 2471282.5 , 2459806.5 , ..., 2452389.5 , 2449665.5 ,\n",
       "         2417852.5 ],\n",
       "        [2471091.  , 2468868.5 , 2457588.25, ..., 2456267.5 , 2453488.25,\n",
       "         2413378.  ],\n",
       "        [2466698.75, 2464564.75, 2453023.25, ..., 2448679.5 , 2446112.75,\n",
       "         2420802.25],\n",
       "        ...,\n",
       "        [2960641.5 , 3059995.25, 3236109.75, ..., 3043953.5 , 3244338.75,\n",
       "         2915593.25],\n",
       "        [2948824.25, 3060059.25, 3226889.25, ..., 3052232.  , 3236640.25,\n",
       "         2945318.  ],\n",
       "        [2990673.5 , 3068074.  , 3245358.5 , ..., 3043286.75, 3242373.75,\n",
       "         2921457.5 ]]),\n",
       " 'eegstarttime': array([[2022.   ,   12.   ,   13.   ,   10.   ,   47.   ,   46.242]]),\n",
       " 'tsdata': array([[2357103.0217788],\n",
       "        [2357103.0297788],\n",
       "        [2357103.0377788],\n",
       "        ...,\n",
       "        [2359202.953651 ],\n",
       "        [2359202.961651 ],\n",
       "        [2359202.969651 ]])}"
      ]
     },
     "execution_count": 3,
     "metadata": {},
     "output_type": "execute_result"
    }
   ],
   "source": [
    "mat"
   ]
  },
  {
   "cell_type": "code",
   "execution_count": 8,
   "id": "cf37637b",
   "metadata": {},
   "outputs": [
    {
     "data": {
      "text/plain": [
       "251569"
      ]
     },
     "execution_count": 8,
     "metadata": {},
     "output_type": "execute_result"
    }
   ],
   "source": [
    "# mat = mat['chdata']\n",
    "len(mat['chdata'])"
   ]
  },
  {
   "cell_type": "code",
   "execution_count": 5,
   "id": "de8a659d",
   "metadata": {},
   "outputs": [
    {
     "ename": "AttributeError",
     "evalue": "'dict' object has no attribute 'dtype'",
     "output_type": "error",
     "traceback": [
      "\u001b[1;31m---------------------------------------------------------------------------\u001b[0m",
      "\u001b[1;31mAttributeError\u001b[0m                            Traceback (most recent call last)",
      "\u001b[1;32m<ipython-input-5-3b25febbf25e>\u001b[0m in \u001b[0;36m<module>\u001b[1;34m\u001b[0m\n\u001b[1;32m----> 1\u001b[1;33m \u001b[0mmat\u001b[0m\u001b[1;33m.\u001b[0m\u001b[0mdtype\u001b[0m\u001b[1;33m\u001b[0m\u001b[1;33m\u001b[0m\u001b[0m\n\u001b[0m",
      "\u001b[1;31mAttributeError\u001b[0m: 'dict' object has no attribute 'dtype'"
     ]
    }
   ],
   "source": [
    "mat.dtype\n"
   ]
  },
  {
   "cell_type": "code",
   "execution_count": null,
   "id": "8f2b1ed4",
   "metadata": {},
   "outputs": [],
   "source": [
    "mat = {k:v for k, v in mat.items() if k[0] != '_'}\n",
    "data = pd.DataFrame({k: pd.Series(v[0]) for k, v in mat.items()})\n",
    "data.to_csv(\"example.csv\")"
   ]
  },
  {
   "cell_type": "code",
   "execution_count": null,
   "id": "2b9ede9c",
   "metadata": {},
   "outputs": [],
   "source": [
    "data"
   ]
  },
  {
   "cell_type": "code",
   "execution_count": null,
   "id": "cd589b27",
   "metadata": {},
   "outputs": [],
   "source": [
    "data.shape"
   ]
  },
  {
   "cell_type": "code",
   "execution_count": null,
   "id": "b3c8c915",
   "metadata": {},
   "outputs": [],
   "source": [
    "df = pd.DataFrame(mat['chdata'])\n",
    "df.to_csv(\"filename.csv\", index=False)"
   ]
  },
  {
   "cell_type": "code",
   "execution_count": null,
   "id": "f7335824",
   "metadata": {},
   "outputs": [],
   "source": [
    "len(data)\n"
   ]
  },
  {
   "cell_type": "code",
   "execution_count": null,
   "id": "beaa6bff",
   "metadata": {},
   "outputs": [],
   "source": [
    "data.shape"
   ]
  },
  {
   "cell_type": "code",
   "execution_count": null,
   "id": "e17112c7",
   "metadata": {},
   "outputs": [],
   "source": [
    "len(data['chdata'])#2 eyeopen 2 eye close #2100 sec 1 sec me 120 sameple"
   ]
  },
  {
   "cell_type": "code",
   "execution_count": null,
   "id": "a011c51a",
   "metadata": {},
   "outputs": [],
   "source": [
    "len(data['chdata'][0])"
   ]
  },
  {
   "cell_type": "code",
   "execution_count": null,
   "id": "f9370358",
   "metadata": {},
   "outputs": [],
   "source": [
    "len(data['tsdata'])"
   ]
  },
  {
   "cell_type": "code",
   "execution_count": null,
   "id": "19ca1bb9",
   "metadata": {},
   "outputs": [],
   "source": [
    "len(data['tsdata'][0])"
   ]
  },
  {
   "cell_type": "code",
   "execution_count": null,
   "id": "e526f4b1",
   "metadata": {},
   "outputs": [],
   "source": [
    "n = len(data['chdata'])\n",
    "ts = 125\n",
    "print(n)"
   ]
  },
  {
   "cell_type": "code",
   "execution_count": null,
   "id": "316ac25b",
   "metadata": {},
   "outputs": [],
   "source": [
    "# t = range(1,4)\n",
    "# print(t) \n",
    "t = [i/ts for i in range(0, n+1)]\n",
    "t"
   ]
  },
  {
   "cell_type": "code",
   "execution_count": null,
   "id": "eb950796",
   "metadata": {},
   "outputs": [],
   "source": [
    "x = data['chdata']\n",
    "y = data['tsdata']"
   ]
  },
  {
   "cell_type": "code",
   "execution_count": null,
   "id": "69e72232",
   "metadata": {},
   "outputs": [],
   "source": [
    "plt.plot(x , y)"
   ]
  },
  {
   "cell_type": "code",
   "execution_count": null,
   "id": "264cbdf4",
   "metadata": {},
   "outputs": [],
   "source": [
    "# plt.figure(figsize=(20,20))\n",
    "\n",
    "x = data['tsdata']\n",
    "# x = t\n",
    "y = data['chdata']\n",
    "plt.plot(x , y)\n",
    "print(plt.shape)\n",
    "plt.show"
   ]
  },
  {
   "cell_type": "code",
   "execution_count": null,
   "id": "99d7c57a",
   "metadata": {},
   "outputs": [],
   "source": [
    "x = data['tsdata']\n",
    "y = data['chdata']\n",
    "plt.subplot(4,4,2)\n",
    "plt.plot(x,y)\n",
    "plt.show"
   ]
  },
  {
   "cell_type": "code",
   "execution_count": null,
   "id": "0f97ec5e",
   "metadata": {},
   "outputs": [],
   "source": [
    "x = data['tsdata']\n",
    "y = data['chdata']\n",
    "plt.subplot(4,4,5)\n",
    "plt.plot(t , data['chdata'][:[5]])\n",
    "plt.show"
   ]
  },
  {
   "cell_type": "code",
   "execution_count": null,
   "id": "a6f57d68",
   "metadata": {},
   "outputs": [],
   "source": []
  }
 ],
 "metadata": {
  "kernelspec": {
   "display_name": "Python 3",
   "language": "python",
   "name": "python3"
  },
  "language_info": {
   "codemirror_mode": {
    "name": "ipython",
    "version": 3
   },
   "file_extension": ".py",
   "mimetype": "text/x-python",
   "name": "python",
   "nbconvert_exporter": "python",
   "pygments_lexer": "ipython3",
   "version": "3.8.8"
  }
 },
 "nbformat": 4,
 "nbformat_minor": 5
}
