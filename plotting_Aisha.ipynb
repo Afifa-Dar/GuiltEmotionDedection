{
 "cells": [
  {
   "cell_type": "code",
   "execution_count": 66,
   "id": "5e691828",
   "metadata": {},
   "outputs": [],
   "source": [
    "import pandas as pd  \n",
    "import numpy as np\n",
    "import matplotlib.pyplot as plt\n",
    "from scipy.io import loadmat\n"
   ]
  },
  {
   "cell_type": "code",
   "execution_count": null,
   "id": "7776c119",
   "metadata": {},
   "outputs": [],
   "source": []
  },
  {
   "cell_type": "code",
   "execution_count": 67,
   "id": "dd631fda",
   "metadata": {},
   "outputs": [],
   "source": [
    "mat = loadmat('01openbci.mat')"
   ]
  },
  {
   "cell_type": "code",
   "execution_count": 68,
   "id": "36ef13a2",
   "metadata": {},
   "outputs": [
    {
     "data": {
      "text/plain": [
       "{'__header__': b'MATLAB 5.0 MAT-file, Platform: PCWIN64, Created on: Tue Dec 13 11:22:43 2022',\n",
       " '__version__': '1.0',\n",
       " '__globals__': [],\n",
       " 'chdata': array([[2473389.75, 2471282.5 , 2459806.5 , ..., 2452389.5 , 2449665.5 ,\n",
       "         2417852.5 ],\n",
       "        [2471091.  , 2468868.5 , 2457588.25, ..., 2456267.5 , 2453488.25,\n",
       "         2413378.  ],\n",
       "        [2466698.75, 2464564.75, 2453023.25, ..., 2448679.5 , 2446112.75,\n",
       "         2420802.25],\n",
       "        ...,\n",
       "        [2960641.5 , 3059995.25, 3236109.75, ..., 3043953.5 , 3244338.75,\n",
       "         2915593.25],\n",
       "        [2948824.25, 3060059.25, 3226889.25, ..., 3052232.  , 3236640.25,\n",
       "         2945318.  ],\n",
       "        [2990673.5 , 3068074.  , 3245358.5 , ..., 3043286.75, 3242373.75,\n",
       "         2921457.5 ]]),\n",
       " 'eegstarttime': array([[2022.   ,   12.   ,   13.   ,   10.   ,   47.   ,   46.242]]),\n",
       " 'tsdata': array([[2357103.0217788],\n",
       "        [2357103.0297788],\n",
       "        [2357103.0377788],\n",
       "        ...,\n",
       "        [2359202.953651 ],\n",
       "        [2359202.961651 ],\n",
       "        [2359202.969651 ]])}"
      ]
     },
     "execution_count": 68,
     "metadata": {},
     "output_type": "execute_result"
    }
   ],
   "source": [
    "mat"
   ]
  },
  {
   "cell_type": "code",
   "execution_count": 69,
   "id": "cf37637b",
   "metadata": {},
   "outputs": [
    {
     "data": {
      "text/plain": [
       "251569"
      ]
     },
     "execution_count": 69,
     "metadata": {},
     "output_type": "execute_result"
    }
   ],
   "source": [
    "# mat = mat['chdata']\n",
    "len(mat['chdata'])"
   ]
  },
  {
   "cell_type": "code",
   "execution_count": 70,
   "id": "de8a659d",
   "metadata": {},
   "outputs": [],
   "source": [
    "# mat.dtype\n"
   ]
  },
  {
   "cell_type": "code",
   "execution_count": 71,
   "id": "8f2b1ed4",
   "metadata": {},
   "outputs": [],
   "source": [
    "mat = {k:v for k, v in mat.items() if k[0] != '_'}\n",
    "data = pd.DataFrame({k: pd.Series(v[0]) for k, v in mat.items()})\n",
    "data.to_csv(\"example.csv\")"
   ]
  },
  {
   "cell_type": "code",
   "execution_count": 72,
   "id": "2b9ede9c",
   "metadata": {},
   "outputs": [
    {
     "data": {
      "text/html": [
       "<div>\n",
       "<style scoped>\n",
       "    .dataframe tbody tr th:only-of-type {\n",
       "        vertical-align: middle;\n",
       "    }\n",
       "\n",
       "    .dataframe tbody tr th {\n",
       "        vertical-align: top;\n",
       "    }\n",
       "\n",
       "    .dataframe thead th {\n",
       "        text-align: right;\n",
       "    }\n",
       "</style>\n",
       "<table border=\"1\" class=\"dataframe\">\n",
       "  <thead>\n",
       "    <tr style=\"text-align: right;\">\n",
       "      <th></th>\n",
       "      <th>chdata</th>\n",
       "      <th>eegstarttime</th>\n",
       "      <th>tsdata</th>\n",
       "    </tr>\n",
       "  </thead>\n",
       "  <tbody>\n",
       "    <tr>\n",
       "      <th>0</th>\n",
       "      <td>2.473390e+06</td>\n",
       "      <td>2022.000</td>\n",
       "      <td>2.357103e+06</td>\n",
       "    </tr>\n",
       "    <tr>\n",
       "      <th>1</th>\n",
       "      <td>2.471282e+06</td>\n",
       "      <td>12.000</td>\n",
       "      <td>NaN</td>\n",
       "    </tr>\n",
       "    <tr>\n",
       "      <th>2</th>\n",
       "      <td>2.459806e+06</td>\n",
       "      <td>13.000</td>\n",
       "      <td>NaN</td>\n",
       "    </tr>\n",
       "    <tr>\n",
       "      <th>3</th>\n",
       "      <td>2.428836e+06</td>\n",
       "      <td>10.000</td>\n",
       "      <td>NaN</td>\n",
       "    </tr>\n",
       "    <tr>\n",
       "      <th>4</th>\n",
       "      <td>-4.322805e+03</td>\n",
       "      <td>47.000</td>\n",
       "      <td>NaN</td>\n",
       "    </tr>\n",
       "    <tr>\n",
       "      <th>5</th>\n",
       "      <td>8.673862e+05</td>\n",
       "      <td>46.242</td>\n",
       "      <td>NaN</td>\n",
       "    </tr>\n",
       "    <tr>\n",
       "      <th>6</th>\n",
       "      <td>2.479150e+06</td>\n",
       "      <td>NaN</td>\n",
       "      <td>NaN</td>\n",
       "    </tr>\n",
       "    <tr>\n",
       "      <th>7</th>\n",
       "      <td>2.514574e+06</td>\n",
       "      <td>NaN</td>\n",
       "      <td>NaN</td>\n",
       "    </tr>\n",
       "    <tr>\n",
       "      <th>8</th>\n",
       "      <td>2.445350e+06</td>\n",
       "      <td>NaN</td>\n",
       "      <td>NaN</td>\n",
       "    </tr>\n",
       "    <tr>\n",
       "      <th>9</th>\n",
       "      <td>2.441022e+06</td>\n",
       "      <td>NaN</td>\n",
       "      <td>NaN</td>\n",
       "    </tr>\n",
       "    <tr>\n",
       "      <th>10</th>\n",
       "      <td>2.451808e+06</td>\n",
       "      <td>NaN</td>\n",
       "      <td>NaN</td>\n",
       "    </tr>\n",
       "    <tr>\n",
       "      <th>11</th>\n",
       "      <td>2.523823e+06</td>\n",
       "      <td>NaN</td>\n",
       "      <td>NaN</td>\n",
       "    </tr>\n",
       "    <tr>\n",
       "      <th>12</th>\n",
       "      <td>2.403010e+06</td>\n",
       "      <td>NaN</td>\n",
       "      <td>NaN</td>\n",
       "    </tr>\n",
       "    <tr>\n",
       "      <th>13</th>\n",
       "      <td>2.452390e+06</td>\n",
       "      <td>NaN</td>\n",
       "      <td>NaN</td>\n",
       "    </tr>\n",
       "    <tr>\n",
       "      <th>14</th>\n",
       "      <td>2.449666e+06</td>\n",
       "      <td>NaN</td>\n",
       "      <td>NaN</td>\n",
       "    </tr>\n",
       "    <tr>\n",
       "      <th>15</th>\n",
       "      <td>2.417852e+06</td>\n",
       "      <td>NaN</td>\n",
       "      <td>NaN</td>\n",
       "    </tr>\n",
       "  </tbody>\n",
       "</table>\n",
       "</div>"
      ],
      "text/plain": [
       "          chdata  eegstarttime        tsdata\n",
       "0   2.473390e+06      2022.000  2.357103e+06\n",
       "1   2.471282e+06        12.000           NaN\n",
       "2   2.459806e+06        13.000           NaN\n",
       "3   2.428836e+06        10.000           NaN\n",
       "4  -4.322805e+03        47.000           NaN\n",
       "5   8.673862e+05        46.242           NaN\n",
       "6   2.479150e+06           NaN           NaN\n",
       "7   2.514574e+06           NaN           NaN\n",
       "8   2.445350e+06           NaN           NaN\n",
       "9   2.441022e+06           NaN           NaN\n",
       "10  2.451808e+06           NaN           NaN\n",
       "11  2.523823e+06           NaN           NaN\n",
       "12  2.403010e+06           NaN           NaN\n",
       "13  2.452390e+06           NaN           NaN\n",
       "14  2.449666e+06           NaN           NaN\n",
       "15  2.417852e+06           NaN           NaN"
      ]
     },
     "execution_count": 72,
     "metadata": {},
     "output_type": "execute_result"
    }
   ],
   "source": [
    "data"
   ]
  },
  {
   "cell_type": "code",
   "execution_count": 73,
   "id": "cd589b27",
   "metadata": {},
   "outputs": [
    {
     "data": {
      "text/plain": [
       "(16, 3)"
      ]
     },
     "execution_count": 73,
     "metadata": {},
     "output_type": "execute_result"
    }
   ],
   "source": [
    "data.shape"
   ]
  },
  {
   "cell_type": "code",
   "execution_count": 74,
   "id": "b3c8c915",
   "metadata": {},
   "outputs": [],
   "source": [
    "df = pd.DataFrame(mat['chdata'])\n",
    "df.to_csv(\"filename.csv\", index=False)"
   ]
  },
  {
   "cell_type": "code",
   "execution_count": 75,
   "id": "f7335824",
   "metadata": {},
   "outputs": [
    {
     "data": {
      "text/plain": [
       "16"
      ]
     },
     "execution_count": 75,
     "metadata": {},
     "output_type": "execute_result"
    }
   ],
   "source": [
    "len(data)\n"
   ]
  },
  {
   "cell_type": "code",
   "execution_count": 76,
   "id": "beaa6bff",
   "metadata": {},
   "outputs": [
    {
     "data": {
      "text/plain": [
       "(16, 3)"
      ]
     },
     "execution_count": 76,
     "metadata": {},
     "output_type": "execute_result"
    }
   ],
   "source": [
    "data.shape"
   ]
  },
  {
   "cell_type": "code",
   "execution_count": 77,
   "id": "e17112c7",
   "metadata": {},
   "outputs": [
    {
     "data": {
      "text/plain": [
       "16"
      ]
     },
     "execution_count": 77,
     "metadata": {},
     "output_type": "execute_result"
    }
   ],
   "source": [
    "len(data['chdata'])#2 eyeopen 2 eye close #2100 sec 1 sec me 120 sameple"
   ]
  },
  {
   "cell_type": "code",
   "execution_count": 78,
   "id": "a011c51a",
   "metadata": {},
   "outputs": [],
   "source": [
    "# len(data['chdata'][0])"
   ]
  },
  {
   "cell_type": "code",
   "execution_count": 79,
   "id": "f9370358",
   "metadata": {},
   "outputs": [
    {
     "data": {
      "text/plain": [
       "16"
      ]
     },
     "execution_count": 79,
     "metadata": {},
     "output_type": "execute_result"
    }
   ],
   "source": [
    "len(data['tsdata'])"
   ]
  },
  {
   "cell_type": "code",
   "execution_count": 80,
   "id": "19ca1bb9",
   "metadata": {},
   "outputs": [],
   "source": [
    "# len(data['tsdata'][0])"
   ]
  },
  {
   "cell_type": "code",
   "execution_count": 81,
   "id": "e526f4b1",
   "metadata": {},
   "outputs": [
    {
     "name": "stdout",
     "output_type": "stream",
     "text": [
      "16\n"
     ]
    }
   ],
   "source": [
    "n = len(data['chdata'])\n",
    "ts = 125\n",
    "print(n)"
   ]
  },
  {
   "cell_type": "code",
   "execution_count": 82,
   "id": "316ac25b",
   "metadata": {},
   "outputs": [
    {
     "data": {
      "text/plain": [
       "[0.0,\n",
       " 0.008,\n",
       " 0.016,\n",
       " 0.024,\n",
       " 0.032,\n",
       " 0.04,\n",
       " 0.048,\n",
       " 0.056,\n",
       " 0.064,\n",
       " 0.072,\n",
       " 0.08,\n",
       " 0.088,\n",
       " 0.096,\n",
       " 0.104,\n",
       " 0.112,\n",
       " 0.12,\n",
       " 0.128]"
      ]
     },
     "execution_count": 82,
     "metadata": {},
     "output_type": "execute_result"
    }
   ],
   "source": [
    "# t = range(1,4)\n",
    "# print(t) \n",
    "t = [i/ts for i in range(0, n+1)]\n",
    "t"
   ]
  },
  {
   "cell_type": "code",
   "execution_count": 83,
   "id": "eb950796",
   "metadata": {},
   "outputs": [],
   "source": [
    "x = data['chdata']\n",
    "y = data['tsdata']"
   ]
  },
  {
   "cell_type": "code",
   "execution_count": 84,
   "id": "69e72232",
   "metadata": {},
   "outputs": [
    {
     "data": {
      "text/plain": [
       "[<matplotlib.lines.Line2D at 0x1265a604610>]"
      ]
     },
     "execution_count": 84,
     "metadata": {},
     "output_type": "execute_result"
    },
    {
     "data": {
      "image/png": "[encoded data removed]",
      "text/plain": [
       "<Figure size 432x288 with 1 Axes>"
      ]
     },
     "metadata": {
      "needs_background": "light"
     },
     "output_type": "display_data"
    }
   ],
   "source": [
    "plt.plot(x , y)"
   ]
  },
  {
   "cell_type": "code",
   "execution_count": 85,
   "id": "264cbdf4",
   "metadata": {},
   "outputs": [],
   "source": [
    "# plt.figure(figsize=(20,20))\n",
    "\n",
    "# x = data['tsdata']\n",
    "# # x = t\n",
    "# y = data['chdata']\n",
    "# plt.plot(x , y)\n",
    "# print(plt.shape)\n",
    "# plt.show"
   ]
  },
  {
   "cell_type": "code",
   "execution_count": 86,
   "id": "99d7c57a",
   "metadata": {},
   "outputs": [
    {
     "data": {
      "text/plain": [
       "<function matplotlib.pyplot.show(close=None, block=None)>"
      ]
     },
     "execution_count": 86,
     "metadata": {},
     "output_type": "execute_result"
    },
    {
     "data": {
      "image/png": "[encoded data removed]",
      "text/plain": [
       "<Figure size 432x288 with 1 Axes>"
      ]
     },
     "metadata": {
      "needs_background": "light"
     },
     "output_type": "display_data"
    }
   ],
   "source": [
    "x = data['tsdata']\n",
    "y = data['chdata']\n",
    "plt.subplot(4,4,2)\n",
    "plt.plot(x,y)\n",
    "plt.show"
   ]
  },
  {
   "cell_type": "code",
   "execution_count": 87,
   "id": "0f97ec5e",
   "metadata": {},
   "outputs": [],
   "source": [
    "# x = data['tsdata']\n",
    "# y = data['chdata']\n",
    "# plt.subplot(4,4,5)\n",
    "# plt.plot(t , data['chdata'][:[5]])\n",
    "# plt.show"
   ]
  },
  {
   "cell_type": "code",
   "execution_count": null,
   "id": "a6f57d68",
   "metadata": {},
   "outputs": [],
   "source": []
  }
 ],
 "metadata": {
  "kernelspec": {
   "display_name": "Python 3",
   "language": "python",
   "name": "python3"
  },
  "language_info": {
   "codemirror_mode": {
    "name": "ipython",
    "version": 3
   },
   "file_extension": ".py",
   "mimetype": "text/x-python",
   "name": "python",
   "nbconvert_exporter": "python",
   "pygments_lexer": "ipython3",
   "version": "3.8.8"
  }
 },
 "nbformat": 4,
 "nbformat_minor": 5
}
